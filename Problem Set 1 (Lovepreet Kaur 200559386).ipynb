{
 "cells": [
  {
   "cell_type": "markdown",
   "id": "d5d25e71",
   "metadata": {},
   "source": [
    "Question 1:\n",
    "To determine the data type of each expression, we can use the type() function in Python. Let's evaluate each expression:\n"
   ]
  },
  {
   "cell_type": "code",
   "execution_count": 1,
   "id": "eab5be13",
   "metadata": {},
   "outputs": [
    {
     "name": "stdout",
     "output_type": "stream",
     "text": [
      "<class 'int'>\n",
      "<class 'float'>\n",
      "<class 'bool'>\n",
      "<class 'str'>\n",
      "<class 'int'>\n",
      "<class 'str'>\n",
      "<class 'str'>\n",
      "<class 'float'>\n",
      "<class 'int'>\n",
      "<class 'set'>\n",
      "<class 'bool'>\n",
      "<class 'float'>\n"
     ]
    }
   ],
   "source": [
    "print(type(5))              # int\n",
    "print(type(5.0))            # float\n",
    "print(type(5 > 1))          # bool\n",
    "print(type('5'))            # str\n",
    "print(type(5 * 2))          # int\n",
    "print(type('5' * 2))        # str\n",
    "print(type('5' + '2'))      # str\n",
    "print(type(5 / 2))          # float\n",
    "print(type(5 % 2))          # int\n",
    "print(type({5, 2, 1}))      # set\n",
    "print(type(5 == 3))         # bool\n",
    "print(type(3.14159))        # float\n"
   ]
  },
  {
   "cell_type": "markdown",
   "id": "2a4b4c34",
   "metadata": {},
   "source": [
    "Question 2:\n",
    "Solution:\n",
    "a. To determine the number of letters in the string 'Supercalifragilisticexpialidocious', we can use the len() function:\n"
   ]
  },
  {
   "cell_type": "code",
   "execution_count": 2,
   "id": "16feb639",
   "metadata": {},
   "outputs": [
    {
     "name": "stdout",
     "output_type": "stream",
     "text": [
      "34\n"
     ]
    }
   ],
   "source": [
    "word = 'Supercalifragilisticexpialidocious'\n",
    "num_letters = len(word)\n",
    "print(num_letters)\n"
   ]
  },
  {
   "cell_type": "markdown",
   "id": "bf88fe01",
   "metadata": {},
   "source": [
    "b. To check if the string 'Supercalifragilisticexpialidocious' contains the substring 'ice', we can use the in operator:"
   ]
  },
  {
   "cell_type": "code",
   "execution_count": 3,
   "id": "535ebf12",
   "metadata": {},
   "outputs": [
    {
     "name": "stdout",
     "output_type": "stream",
     "text": [
      "True\n"
     ]
    }
   ],
   "source": [
    "word = 'Supercalifragilisticexpialidocious'\n",
    "substring = 'ice'\n",
    "contains_substring = substring in word\n",
    "print(contains_substring)\n",
    "\n"
   ]
  },
  {
   "cell_type": "markdown",
   "id": "1dd0937e",
   "metadata": {},
   "source": [
    "c. To determine the longest word among 'Supercalifragilisticexpialidocious', 'Honorificabilitudinitatibus', and 'Bababadalgharaghtakamminarronnkonn', we can compare their lengths using the len() function:"
   ]
  },
  {
   "cell_type": "code",
   "execution_count": 4,
   "id": "7803d9bf",
   "metadata": {},
   "outputs": [
    {
     "name": "stdout",
     "output_type": "stream",
     "text": [
      "Supercalifragilisticexpialidocious\n"
     ]
    }
   ],
   "source": [
    "word1 = 'Supercalifragilisticexpialidocious'\n",
    "word2 = 'Honorificabilitudinitatibus'\n",
    "word3 = 'Bababadalgharaghtakamminarronnkonn'\n",
    "longest_word = max(word1, word2, word3, key=len)\n",
    "print(longest_word)\n"
   ]
  },
  {
   "cell_type": "markdown",
   "id": "2348a28d",
   "metadata": {},
   "source": [
    "d. To determine the first and last composers in the dictionary, we can use a list and the built-in min() and max() functions:"
   ]
  },
  {
   "cell_type": "code",
   "execution_count": 5,
   "id": "bf1b77f0",
   "metadata": {},
   "outputs": [
    {
     "name": "stdout",
     "output_type": "stream",
     "text": [
      "Bartok\n",
      "Buxtehude\n"
     ]
    }
   ],
   "source": [
    "composers = ['Berlioz', 'Borodin', 'Brian', 'Bartok', 'Bellini', 'Buxtehude', 'Bernstein']\n",
    "first_composer = min(composers)\n",
    "last_composer = max(composers)\n",
    "print(first_composer)\n",
    "print(last_composer)\n"
   ]
  },
  {
   "cell_type": "markdown",
   "id": "ec1e03fc",
   "metadata": {},
   "source": [
    "Question 3 \n",
    "Implement function triangleArea(a,b,c) that takes as input the lengths of the 3 sides of a triangle and returns the area of the triangle. By Heron's formula, the area of a triangle with side lengths a, b, and c is s(s - a)(s -b)(s -c) , where s = (a+b+c)/2. >>> triangleArea(2,2,2) 1.7320508075688772:\n"
   ]
  },
  {
   "cell_type": "code",
   "execution_count": 8,
   "id": "15d76933",
   "metadata": {},
   "outputs": [
    {
     "name": "stdout",
     "output_type": "stream",
     "text": [
      "1.7320508075688772\n"
     ]
    }
   ],
   "source": [
    "import math\n",
    "def triangleArea(a, b, c):\n",
    "    # Calculate the semi-perimeter\n",
    "    s = (a + b + c) / 2\n",
    "    # Calculate the area using Heron's formula\n",
    "    area = math.sqrt(s * (s - a) * (s - b) * (s - c))\n",
    "    return area\n",
    "result = triangleArea(2,2,2)\n",
    "print(result)\n"
   ]
  },
  {
   "cell_type": "markdown",
   "id": "a8868d6a",
   "metadata": {},
   "source": [
    "Question 4 \n",
    "Write a program in python to separate odd and even integers in separate arrays. Go to the editor Test Data : Input the number of elements to be stored in the array :5 Input 5 elements in the array : element - 0 : 25 element - 1 : 47 element - 2 : 42 element - 3 : 56 element - 4 : 32 Expected Output: The Even elements are: 42 56 32 The Odd elements are : 25 47    \n"
   ]
  },
  {
   "cell_type": "code",
   "execution_count": 1,
   "id": "6f087e7d",
   "metadata": {},
   "outputs": [
    {
     "name": "stdout",
     "output_type": "stream",
     "text": [
      "Input the number of elements to be stored in the array: 5\n",
      "Element - 0 : 25\n",
      "Element - 1 : 47\n",
      "Element - 2 : 42\n",
      "Element - 3 : 56\n",
      "Element - 4 : 32\n",
      "The Even elements are:\n",
      "42 56 32\n",
      "The Odd elements are:\n",
      "25 47\n"
     ]
    }
   ],
   "source": [
    "def separateOddEven(numbers):\n",
    "    even_numbers = []\n",
    "    odd_numbers = []\n",
    "    \n",
    "    for num in numbers:\n",
    "        if num % 2 == 0:\n",
    "            even_numbers.append(num)\n",
    "        else:\n",
    "            odd_numbers.append(num)\n",
    "            \n",
    "    return even_numbers, odd_numbers\n",
    "\n",
    "# Getting the number of elements from the user\n",
    "num_elements = int(input(\"Input the number of elements to be stored in the array: \"))\n",
    "\n",
    "# Getting the elements from the user\n",
    "elements = []\n",
    "for i in range(num_elements):\n",
    "    element = int(input(f\"Element - {i} : \"))\n",
    "    elements.append(element)\n",
    "\n",
    "# Separating odd and even numbers\n",
    "even_elements, odd_elements = separateOddEven(elements)\n",
    "# Printing the results\n",
    "print(\"The Even elements are:\")\n",
    "print(' '.join(str(num) for num in even_elements))\n",
    "print(\"The Odd elements are:\")\n",
    "print(' '.join(str(num) for num in odd_elements))\n",
    "\n"
   ]
  },
  {
   "cell_type": "markdown",
   "id": "144ccc53",
   "metadata": {},
   "source": [
    "Question 5\n",
    " a. Write a function inside(x,y,x1,y1,x2,y2) that returns True or False depending on whether the point (x,y) lies in the rectangle with lower left corner (x1,y1) and upper right corner (x2,y2). >>> inside(1,1,0,0,2,3) True >>> inside(-1,-1,0,0,2,3) False b. Use function inside() from part a. to write an expression that tests whether the point (1,1) lies in both of the following rectangles: one with lower left corner (0.3, 0.5) and upper right corner (1.1, 0.7) and the other with lower left corner (0.5, 0.2) and upper right corner (1.1, 2).    .\n"
   ]
  },
  {
   "cell_type": "code",
   "execution_count": 1,
   "id": "33420f90",
   "metadata": {},
   "outputs": [
    {
     "name": "stdout",
     "output_type": "stream",
     "text": [
      "True\n",
      "False\n",
      "False\n"
     ]
    }
   ],
   "source": [
    "#Solution 5\n",
    "def inside(x, y, x1, y1, x2, y2):\n",
    "    return (x >= x1 and x <= x2) and (y >= y1 and y <= y2)\n",
    "\n",
    "#a)\n",
    "print(inside(1, 1, 0, 0, 2, 3))\n",
    "print(inside(-1, -1, 0, 0, 2, 3))\n",
    "#b)\n",
    "print((inside(1, 1, 0.3, 0.5, 1.1, 0.7) and inside(1, 1, 0.5, 0.2, 1.1, 2)))"
   ]
  },
  {
   "cell_type": "markdown",
   "id": "1fb75b27",
   "metadata": {},
   "source": [
    "Question 6 \n",
    "16. You can turn a word into pig-Latin using the following two rules (simplified): • If the word starts with a consonant, move that letter to the end and append 'ay'. For example, 'happy' becomes 'appyhay' and 'pencil' becomes 'encilpay'. • If the word starts with a vowel, simply append 'way' to the end of the word. For example, 'enter' becomes 'enterway' and 'other' becomes 'otherway' . For our purposes, there are 5 vowels: a, e, i, o, u (so we count y as a consonant). Write a function pig() that takes a word (i.e., a string) as input and returns its pigLatin form. Your function should still work if the input word contains upper case characters. Your output should always be lower case however. >>> pig('happy') 'appyhay' >>> pig('Enter') 'enterway'    .\n"
   ]
  },
  {
   "cell_type": "code",
   "execution_count": 3,
   "id": "a48803f2",
   "metadata": {},
   "outputs": [
    {
     "name": "stdout",
     "output_type": "stream",
     "text": [
      "appyhay\n",
      "enterway\n"
     ]
    }
   ],
   "source": [
    "def pig(word):\n",
    "    # Convert the word to lowercase\n",
    "    word = word.lower()\n",
    "\n",
    "    # Check if the word starts with a vowel\n",
    "    if word[0] in 'aeiou':\n",
    "        return word + 'way'\n",
    "    else:\n",
    "        return word[1:] + word[0] + 'ay'\n",
    "\n",
    "print(pig('happy'))\n",
    "print(pig('Enter'))\n"
   ]
  },
  {
   "cell_type": "markdown",
   "id": "7385a09a",
   "metadata": {},
   "source": [
    "Question 7 \n",
    "File bloodtype1.txt records blood-types of patients (A, B, AB, O or OO) at a clinic. Write a function bldcount() that reads the file with name name and reports (i.e., prints) how many patients there are in each bloodtype. >>> bldcount('bloodtype.txt') There are 10 patients of blood type A. There is one patient of blood type B. There are 10 patients of blood type AB. There are 12 patients of blood type O. There are no patients of blood type OO    .\n"
   ]
  },
  {
   "cell_type": "code",
   "execution_count": 3,
   "id": "9ca21810",
   "metadata": {},
   "outputs": [
    {
     "name": "stdout",
     "output_type": "stream",
     "text": [
      "There are 10 patients of blood type A.\n",
      "There is one patient of blood type B.\n",
      "There are 10 patients of blood type AB.\n",
      "There are 12 patients of blood type O.\n",
      "There are 0 patients of blood type OO.\n"
     ]
    }
   ],
   "source": [
    "# Solution 7\n",
    "def bldcount(name):\n",
    "    blood_type_counts = {}\n",
    "\n",
    "    with open(name, 'r') as f:\n",
    "        for line in f:\n",
    "            line = line.strip()\n",
    "            count, blood_type = line.rsplit(maxsplit=1)\n",
    "            blood_type = str(blood_type)\n",
    "            if blood_type not in blood_type_counts:\n",
    "                blood_type_counts[blood_type] = int(count)\n",
    "            else:\n",
    "                blood_type_counts[blood_type] += int(count)\n",
    "\n",
    "    for blood_type, count in blood_type_counts.items():\n",
    "        if count == 1:\n",
    "            print(\"There is one patient of blood type {}.\".format(blood_type))\n",
    "        else:\n",
    "            print(\"There are {} patients of blood type {}.\".format(count, blood_type))\n",
    "\n",
    "\n",
    "def create_file(entries):\n",
    "    with open('bloodtype.txt', 'w') as f:\n",
    "        for count, blood_type in entries:\n",
    "            f.write('{} {}\\n'.format(count, blood_type))\n",
    "\n",
    "\n",
    "if __name__ == \"__main__\":\n",
    "    # Create the file with specified entries.\n",
    "    entries = [(10, 'A'), (1, 'B'), (10, 'AB'), (12, 'O'), (0, 'OO')]\n",
    "    create_file(entries)\n",
    "\n",
    "    # Read the file and report the number of patients in each blood type.\n",
    "    bldcount('bloodtype.txt')\n"
   ]
  },
  {
   "cell_type": "markdown",
   "id": "b558d29d",
   "metadata": {},
   "source": [
    "Question8:\n",
    "\n",
    "Write a function curconv() that takes as input: 1. a currency represented using a string (e.g., 'JPY' for the Japanese Yen or 'EUR' for the Euro) 2. an amount and then converts and returns the amount in US dollars. >>> curconv('EUR', 100) 122.96544 >>> curconv('JPY', 100) 1.241401 The currency rates you will need are stored in file currencies.txt: AUD 1.0345157 Australian Dollar CHF 1.0237414 Swiss Franc CNY 0.1550176 Chinese Yuan DKK 0.1651442 Danish Krone EUR 1.2296544 Euro GBP 1.5550989 British Pound HKD 0.1270207 Hong Kong Dollar INR 0.0177643 Indian Rupee JPY 0.01241401 Japanese Yen MXN 0.0751848 Mexican Peso MYR 0.3145411 Malaysian Ringgit NOK 0.1677063 Norwegian Krone NZD 0.8003591 New Zealand Dollar PHP 0.0233234 Philippine Peso SEK 0.148269 Swedish Krona SGD 0.788871 Singapore Dollar THB 0.0313789 Thai Baht"
   ]
  },
  {
   "cell_type": "code",
   "execution_count": 4,
   "id": "29af6219",
   "metadata": {},
   "outputs": [
    {
     "name": "stdout",
     "output_type": "stream",
     "text": [
      "61.48272\n",
      "15.727055\n"
     ]
    }
   ],
   "source": [
    "#Solution 8\n",
    "with open(\"currencies.txt\", \"w\") as f:\n",
    "  f.write(\"AUD 1.0345157 Australian Dollar\\n\")\n",
    "  f.write(\"CHF 1.0237414 Swiss Franc\\n\")\n",
    "  f.write(\"CNY 0.1550176 Chinese Yuan\\n\")\n",
    "  f.write(\"DKK 0.1651442 Danish Krone\\n\")\n",
    "  f.write(\"EUR 1.2296544 Euro\\n\")\n",
    "  f.write(\"GBP 1.5550989 British Pound\\n\")\n",
    "  f.write(\"HKD 0.1270207 Hong Kong Dollar\\n\")\n",
    "  f.write(\"INR 0.0177643 Indian Rupee\\n\")\n",
    "  f.write(\"JPY 0.01241401 Japanese Yen\\n\")\n",
    "  f.write(\"MXN 0.0751848 Mexican Peso\\n\")\n",
    "  f.write(\"MYR 0.3145411 Malaysian Ringgit\\n\")\n",
    "  f.write(\"NOK 0.1677063 Norwegian Krone\\n\")\n",
    "  f.write(\"NZD 0.8003591 New Zealand Dollar\\n\")\n",
    "  f.write(\"PHP 0.0233234 Philippine Peso\\n\")\n",
    "  f.write(\"SEK 0.148269 Swedish Krona\\n\")\n",
    "  f.write(\"SGD 0.788871 Singapore Dollar\\n\")\n",
    "  f.write(\"THB 0.0313789 Thai Baht\\n\")\n",
    "\n",
    "def curconv(currency, amount):\n",
    "  # Read the currency rates from the file.\n",
    "  with open(\"currencies.txt\") as f:\n",
    "    rates = {}\n",
    "    for line in f:\n",
    "      cur, rate = line.strip().split()[:2]\n",
    "      rates[cur] = float(rate.strip())\n",
    "  # Convert the amount to US dollars.\n",
    "  return amount * rates[currency]\n",
    "\n",
    "print(curconv('EUR', 50))\n",
    "print(curconv('MYR', 50))"
   ]
  },
  {
   "cell_type": "markdown",
   "id": "50ca8e9a",
   "metadata": {},
   "source": [
    "Question9: \n",
    "Each of the following will cause an exception (an error). Identify what type of exception each will cause. Trying to add incompatible variables, as in adding 6 + ‘a’ Referring to the 12th item of a list that has only 10 items Using a value that is out of range for a function’s input, such as calling math.sqrt(-1.0) Using an undeclared variable, such as print(x) when x has not been defined Trying to open a file that does not exist, such as mistyping the file name or looking in the wrong directory.    .\n",
    "\n"
   ]
  },
  {
   "cell_type": "markdown",
   "id": "bd519785",
   "metadata": {},
   "source": [
    "Solution 9:\n",
    "1. Trying to add incompatible variables, as in adding 6 + 'a':\n",
    "   This will cause a `TypeError` exception. It occurs when you try to perform an operation between two incompatible types.\n",
    "2. Referring to the 12th item of a list that has only 10 items:\n",
    "   This will cause an `IndexError` exception. It occurs when you try to access an index that is outside the range of valid indices for a sequence (e.g., list, string).\n",
    "3. Using a value that is out of range for a function's input, such as calling `math.sqrt(-1.0)`:\n",
    "   This will cause a `ValueError` exception. It occurs when you provide an argument that is outside the valid range of values for a specific function or operation.\n",
    "4. Using an undeclared variable, such as `print(x)` when `x` has not been defined:\n",
    "   This will cause a `NameError` exception. It occurs when you try to access a variable or name that has not been defined or is not accessible in the current scope.\n",
    "5. Trying to open a file that does not exist, such as mistyping the file name or looking in the wrong directory:\n",
    "   This will cause a `FileNotFoundError` exception. It occurs when you try to open a file that does not exist or provide an incorrect file path.\n",
    "These exceptions help to identify and handle different types of errors that can occur during program execution.\n"
   ]
  },
  {
   "cell_type": "markdown",
   "id": "dfd17542",
   "metadata": {},
   "source": [
    "Question 10 \n",
    "Encryption is the process of hiding the meaning of a text by substituting letters in the message with other letters, according to some system. If the process is successful, no one but the intended recipient can understand the encrypted message. Cryptanalysis refers to attempts to undo the encryption, even if some details of the encryption are unknown (for example, if an encrypted message has been intercepted). The first step of cryptanalysis is often to build up a table of letter frequencies in the encrypted text. Assume that the string letters is already defined as 'abcdefghijklmnopqrstuvwxyz'. Write a function called frequencies() that takes a string as its only parameter, and returns a list of integers, showing the number of times each character appears in the text. Your function may ignore any characters that are not in letters. >>> frequencies('The quick red fox got bored and went home.') [1, 1, 1, 3, 5, 1, 1, 2, 1, 0, 1, 0, 1, 2, 4, 0, 1, 2, 0, 2, 1, 0, 1, 1, 0, 0] >>> frequencies('apple')    \n"
   ]
  },
  {
   "cell_type": "markdown",
   "id": "6e42da8d",
   "metadata": {},
   "source": [
    "Solution 10:\n",
    "Python function called frequencies() that takes a string as input and returns a list of integers representing the number of times each character appears in the text. The function ignores any characters that are not in the letters string, which is defined as 'abcdefghijklmnopqrstuvwxyz'\n",
    "\n"
   ]
  },
  {
   "cell_type": "code",
   "execution_count": 5,
   "id": "b14fcd8e",
   "metadata": {},
   "outputs": [
    {
     "name": "stdout",
     "output_type": "stream",
     "text": [
      "[1, 1, 1, 3, 5, 1, 1, 2, 1, 0, 1, 0, 1, 2, 4, 0, 1, 2, 0, 3, 1, 0, 1, 1, 0, 0]\n",
      "[1, 0, 0, 0, 1, 0, 0, 0, 0, 0, 0, 1, 0, 0, 0, 2, 0, 0, 0, 0, 0, 0, 0, 0, 0, 0]\n"
     ]
    }
   ],
   "source": [
    "def frequencies(text):\n",
    "    letters = 'abcdefghijklmnopqrstuvwxyz'\n",
    "    frequencies = [0] * 26\n",
    "\n",
    "    for char in text.lower():\n",
    "        if char in letters:\n",
    "            index = letters.index(char)\n",
    "            frequencies[index] += 1\n",
    "    return frequencies\n",
    "# Example usage\n",
    "print(frequencies('The quick red fox got bored and went home.'))\n",
    "print(frequencies('apple'))\n",
    "\n"
   ]
  }
 ],
 "metadata": {
  "kernelspec": {
   "display_name": "Python 3 (ipykernel)",
   "language": "python",
   "name": "python3"
  },
  "language_info": {
   "codemirror_mode": {
    "name": "ipython",
    "version": 3
   },
   "file_extension": ".py",
   "mimetype": "text/x-python",
   "name": "python",
   "nbconvert_exporter": "python",
   "pygments_lexer": "ipython3",
   "version": "3.10.9"
  }
 },
 "nbformat": 4,
 "nbformat_minor": 5
}
